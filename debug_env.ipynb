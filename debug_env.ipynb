{
 "cells": [
  {
   "cell_type": "code",
   "execution_count": 1,
   "id": "fc00afb2",
   "metadata": {},
   "outputs": [],
   "source": [
    "SEED = 20040508"
   ]
  },
  {
   "cell_type": "code",
   "execution_count": 2,
   "id": "6b770ca0",
   "metadata": {},
   "outputs": [],
   "source": [
    "from tests.env.simulator import Environment\n",
    "import numpy as np\n",
    "np.random.seed(SEED)"
   ]
  },
  {
   "cell_type": "code",
   "execution_count": 3,
   "id": "6b1cda29",
   "metadata": {},
   "outputs": [],
   "source": [
    "env = Environment()"
   ]
  },
  {
   "cell_type": "code",
   "execution_count": 4,
   "id": "ed242d0e",
   "metadata": {},
   "outputs": [
    {
     "data": {
      "text/plain": [
       "((6, 6), (1, 7), (0,), (30, 6))"
      ]
     },
     "execution_count": 4,
     "metadata": {},
     "output_type": "execute_result"
    }
   ],
   "source": [
    "drone_state, task_state, action_state = env.reset()\n",
    "drone_state.shape, task_state.shape, action_state.shape, env.action_space.info.shape"
   ]
  },
  {
   "cell_type": "code",
   "execution_count": 17,
   "id": "bdcb03d4",
   "metadata": {},
   "outputs": [
    {
     "name": "stdout",
     "output_type": "stream",
     "text": [
      "任务数目·无人机数目: (30, 6)\n",
      "推送次数8\n",
      "\t任务0 -> 无人机3\n",
      "\t任务1 -> 无人机1\n",
      "\t任务2 -> 无人机2\n",
      "\t任务3 -> 无人机5\n",
      "\t任务4 -> 无人机2\n",
      "\t任务5 -> 无人机3\n",
      "\t任务6 -> 无人机0\n",
      "\t任务7 -> 无人机5\n",
      "\t任务8 -> 无人机3\n",
      "\t任务9 -> 无人机2\n",
      "\t任务10 -> 无人机5\n",
      "\t任务11 -> 无人机1\n",
      "\t任务12 -> 无人机3\n",
      "\t任务13 -> 无人机0\n",
      "\t任务14 -> 无人机3\n",
      "\t任务15 -> 无人机0\n",
      "\t任务16 -> 无人机3\n",
      "\t任务17 -> 无人机3\n",
      "\t任务18 -> 无人机2\n",
      "\t任务19 -> 无人机0\n",
      "\t任务20 -> 无人机0\n",
      "\t任务21 -> 无人机2\n",
      "\t任务22 -> 无人机4\n",
      "\t任务23 -> 无人机1\n",
      "\t任务24 -> 无人机1\n",
      "\t任务25 -> 无人机1\n",
      "\t任务26 -> 无人机1\n",
      "\t任务27 -> 无人机5\n",
      "\t任务28 -> 无人机2\n"
     ]
    }
   ],
   "source": [
    "drone_state, task_state, action_state = env.reset()\n",
    "print(f\"任务数目·无人机数目: {env.action_space.info.shape}\")\n",
    "\n",
    "rewards = 0\n",
    "times = 0\n",
    "while True:\n",
    "    times += 1\n",
    "    action = np.hstack((action_state, np.random.randint(low=0, high=len(drone_state), size=(len(task_state) - len(action_state),))))\n",
    "    assert len(action) == len(task_state)\n",
    "    next_drone_state, next_task_state, next_action_state, reward, done, r= env.step(action=action)\n",
    "    assert np.array_equal(action, next_action_state)\n",
    "    rewards += reward\n",
    "    if done:\n",
    "        break\n",
    "    drone_state, task_state, action_state = next_drone_state, next_task_state, next_action_state\n",
    "print(\n",
    "    f'推送次数{times}\\n' +\n",
    "    '\\t' + '\\n\\t'.join([f'任务{j} -> 无人机{i}' for j, i in enumerate(action_state)])\n",
    ")"
   ]
  },
  {
   "cell_type": "code",
   "execution_count": 18,
   "id": "930ffa4f",
   "metadata": {},
   "outputs": [],
   "source": [
    "from tests.agent import Agent"
   ]
  },
  {
   "cell_type": "code",
   "execution_count": 19,
   "id": "5513f59a",
   "metadata": {},
   "outputs": [],
   "source": [
    "agent: Agent = Agent(variant=\"111\")\n",
    "assert agent\n"
   ]
  },
  {
   "cell_type": "code",
   "execution_count": 20,
   "id": "dfb04d2c",
   "metadata": {},
   "outputs": [
    {
     "name": "stdout",
     "output_type": "stream",
     "text": [
      "任务数目·无人机数目: (20, 4)\n",
      "推送次数8\n",
      "\t任务0 -> 无人机2\n",
      "\t任务1 -> 无人机2\n",
      "\t任务2 -> 无人机2\n",
      "\t任务3 -> 无人机2\n",
      "\t任务4 -> 无人机2\n",
      "\t任务5 -> 无人机2\n",
      "\t任务6 -> 无人机2\n",
      "\t任务7 -> 无人机2\n",
      "\t任务8 -> 无人机2\n",
      "\t任务9 -> 无人机2\n",
      "\t任务10 -> 无人机2\n",
      "\t任务11 -> 无人机2\n",
      "\t任务12 -> 无人机2\n",
      "\t任务13 -> 无人机2\n",
      "\t任务14 -> 无人机2\n",
      "\t任务15 -> 无人机2\n",
      "\t任务16 -> 无人机2\n",
      "\t任务17 -> 无人机2\n",
      "\t任务18 -> 无人机2\n",
      "\t任务19 -> 无人机2\n"
     ]
    }
   ],
   "source": [
    "drone_state, task_state, action_state = env.reset()\n",
    "assert action_state.size == 0\n",
    "print(f\"任务数目·无人机数目: {env.action_space.info.shape}\")\n",
    "\n",
    "rewards = 0\n",
    "times = 0\n",
    "while True:\n",
    "    times += 1\n",
    "    q, action = agent.act(drone_state=drone_state, task_state=task_state, action_state=action_state)\n",
    "    assert np.array_equal(action[:len(action_state)], action_state)\n",
    "    \n",
    "    next_drone_state, next_task_state, next_action_state, reward, done, r = env.step(action=action)\n",
    "    assert np.array_equal(next_action_state, action)\n",
    "    assert np.array_equal(next_task_state[:len(task_state)], task_state)\n",
    "\n",
    "    drone_state, task_state, action_state = next_drone_state, next_task_state, next_action_state\n",
    "    \n",
    "    rewards += reward\n",
    "\n",
    "    if done:\n",
    "        break\n",
    "print(\n",
    "    f'推送次数{times}\\n' +\n",
    "    '\\t' + '\\n\\t'.join([f'任务{j} -> 无人机{i}' for j, i in enumerate(action_state)])\n",
    ")"
   ]
  },
  {
   "cell_type": "code",
   "execution_count": 21,
   "id": "44a7ab0d",
   "metadata": {},
   "outputs": [],
   "source": [
    "from pathlib import Path"
   ]
  },
  {
   "cell_type": "code",
   "execution_count": 22,
   "id": "231fab5a",
   "metadata": {},
   "outputs": [
    {
     "data": {
      "text/plain": [
       "'111'"
      ]
     },
     "execution_count": 22,
     "metadata": {},
     "output_type": "execute_result"
    }
   ],
   "source": [
    "main_agent = Agent.loads(from_path=Path('output0/main/4-0.7500/full'))\n",
    "main_agent.variant"
   ]
  },
  {
   "cell_type": "code",
   "execution_count": 23,
   "id": "61849abe",
   "metadata": {},
   "outputs": [
    {
     "name": "stdout",
     "output_type": "stream",
     "text": [
      "任务数目·无人机数目: (25, 5)\n",
      "推送次数6\n",
      "\t任务0 -> 无人机4\n",
      "\t任务1 -> 无人机1\n",
      "\t任务2 -> 无人机0\n",
      "\t任务3 -> 无人机1\n",
      "\t任务4 -> 无人机0\n",
      "\t任务5 -> 无人机3\n",
      "\t任务6 -> 无人机2\n",
      "\t任务7 -> 无人机2\n",
      "\t任务8 -> 无人机4\n",
      "\t任务9 -> 无人机0\n",
      "\t任务10 -> 无人机3\n",
      "\t任务11 -> 无人机2\n",
      "\t任务12 -> 无人机2\n",
      "\t任务13 -> 无人机1\n",
      "\t任务14 -> 无人机3\n",
      "\t任务15 -> 无人机3\n",
      "\t任务16 -> 无人机2\n",
      "\t任务17 -> 无人机4\n",
      "\t任务18 -> 无人机0\n",
      "\t任务19 -> 无人机4\n",
      "\t任务20 -> 无人机1\n",
      "\t任务21 -> 无人机4\n",
      "\t任务22 -> 无人机4\n",
      "\t任务23 -> 无人机4\n",
      "\t任务24 -> 无人机4\n",
      "最终奖励: 31.79860456770497\n",
      "\n"
     ]
    }
   ],
   "source": [
    "drone_state, task_state, action_state = env.reset()\n",
    "print(f\"任务数目·无人机数目: {env.action_space.info.shape}\")\n",
    "assert action_state.size == 0\n",
    "\n",
    "rewards = 0\n",
    "times = 0\n",
    "while True:\n",
    "    times += 1\n",
    "    q, action = main_agent.act(drone_state=drone_state, task_state=task_state, action_state=action_state)\n",
    "    assert np.array_equal(action[:len(action_state)], action_state)\n",
    "\n",
    "    next_drone_state, next_task_state, next_action_state, reward, done, r = env.step(action=action)\n",
    "    assert np.array_equal(next_action_state, action)\n",
    "    assert np.array_equal(next_task_state[:len(task_state)], task_state)\n",
    "\n",
    "    drone_state, task_state, action_state = next_drone_state, next_task_state, next_action_state\n",
    "    \n",
    "    rewards += reward\n",
    "\n",
    "    if done:\n",
    "        break\n",
    "print(\n",
    "    f'推送次数{times}\\n' +\n",
    "    '\\t' + '\\n\\t'.join([f'任务{j} -> 无人机{i}' for j, i in enumerate(action_state)]) + '\\n' +\n",
    "    f'最终奖励: {rewards}\\n'\n",
    ")"
   ]
  },
  {
   "cell_type": "code",
   "execution_count": 24,
   "id": "11a46336",
   "metadata": {},
   "outputs": [
    {
     "data": {
      "text/plain": [
       "array([[ 1.        ,  1.        ,  1.        ,  2.01790756,  2.47819382,\n",
       "        13.86389903],\n",
       "       [ 1.        ,  0.        ,  1.        ,  2.79551375,  1.92799733,\n",
       "        13.69191058],\n",
       "       [ 0.        ,  1.        ,  0.        ,  1.11989786,  0.12061396,\n",
       "         9.9815033 ],\n",
       "       [ 0.        ,  1.        ,  0.        ,  0.97932264,  2.05935175,\n",
       "        10.01028016],\n",
       "       [ 0.        ,  1.        ,  0.        ,  1.97577883,  1.40486225,\n",
       "         9.4682261 ]])"
      ]
     },
     "execution_count": 24,
     "metadata": {},
     "output_type": "execute_result"
    }
   ],
   "source": [
    "drone_state"
   ]
  },
  {
   "cell_type": "code",
   "execution_count": 25,
   "id": "e7ced95e",
   "metadata": {},
   "outputs": [
    {
     "data": {
      "text/plain": [
       "array([[ 0.        ,  1.        ,  0.        ,  8.18914543, -1.74370223,\n",
       "         2.96292322, 24.03845996],\n",
       "       [ 0.        ,  0.        ,  1.        ,  5.57083669,  0.36296114,\n",
       "         2.41704243, 14.45453621],\n",
       "       [ 1.        ,  0.        ,  0.        ,  4.42226472,  2.2063253 ,\n",
       "         2.78439625, 12.57804159],\n",
       "       [ 1.        ,  0.        ,  0.        ,  8.03264291,  5.34726091,\n",
       "         2.09930514, 10.30415362],\n",
       "       [ 0.        ,  0.        ,  1.        ,  5.088093  ,  3.24745837,\n",
       "         2.71899054, 17.25759393],\n",
       "       [ 0.        ,  1.        ,  0.        ,  8.93512899,  4.55736597,\n",
       "         2.54862017, 14.04185467],\n",
       "       [ 0.        ,  0.        ,  1.        ,  6.26149655,  5.21432091,\n",
       "         2.51318369,  7.49238102],\n",
       "       [ 0.        ,  0.        ,  1.        , 10.87006444,  2.28913525,\n",
       "         2.92955722, 10.09780236],\n",
       "       [ 0.        ,  0.        ,  1.        , 11.02236608,  4.20704684,\n",
       "         2.76532919, 21.0131444 ],\n",
       "       [ 0.        ,  1.        ,  0.        ,  9.7245013 ,  0.88988183,\n",
       "         2.88463017, 13.97202492],\n",
       "       [ 0.        ,  1.        ,  0.        ,  3.7729322 , -2.08514092,\n",
       "         2.3202188 , 10.61938397],\n",
       "       [ 0.        ,  0.        ,  1.        ,  4.5386791 ,  2.81133786,\n",
       "         2.90244906,  5.95972676],\n",
       "       [ 0.        ,  1.        ,  0.        ,  7.75251606,  0.96622698,\n",
       "         2.74677086,  3.87297517],\n",
       "       [ 1.        ,  0.        ,  0.        ,  6.27869524,  3.71334419,\n",
       "         2.13799243, 22.26178505],\n",
       "       [ 0.        ,  1.        ,  0.        , 10.46333903,  5.39962261,\n",
       "         2.90094481, 18.99364734],\n",
       "       [ 0.        ,  0.        ,  1.        ,  8.6814528 ,  2.26488878,\n",
       "         2.97185013, 24.01390108],\n",
       "       [ 0.        ,  1.        ,  0.        ,  7.76164031,  1.49580947,\n",
       "         2.53124574,  7.76197661],\n",
       "       [ 1.        ,  0.        ,  0.        ,  5.09322974,  1.32650514,\n",
       "         2.80754385,  2.23291338],\n",
       "       [ 0.        ,  1.        ,  0.        ,  5.09815624,  5.35323292,\n",
       "         2.09358336, 21.85494258],\n",
       "       [ 0.        ,  1.        ,  0.        ,  3.12483277,  0.26587956,\n",
       "         2.26620631, 15.0550693 ],\n",
       "       [ 1.        ,  0.        ,  0.        , 10.41668837,  2.60692913,\n",
       "         2.64909705,  7.31209858],\n",
       "       [ 0.        ,  1.        ,  0.        ,  7.04304196,  0.63295156,\n",
       "         2.20576012,  5.22669366],\n",
       "       [ 1.        ,  0.        ,  0.        ,  7.9349306 ,  2.14760151,\n",
       "         2.07539078,  2.77439826],\n",
       "       [ 0.        ,  1.        ,  0.        ,  4.34130717,  1.62655092,\n",
       "         2.55160615, 15.37964619],\n",
       "       [ 1.        ,  0.        ,  0.        ,  6.59207824,  1.84766367,\n",
       "         2.5262944 , 24.21562828]])"
      ]
     },
     "execution_count": 25,
     "metadata": {},
     "output_type": "execute_result"
    }
   ],
   "source": [
    "task_state"
   ]
  },
  {
   "cell_type": "code",
   "execution_count": 26,
   "id": "7f471109",
   "metadata": {},
   "outputs": [
    {
     "data": {
      "text/plain": [
       "array([4, 1, 0, 1, 0, 3, 2, 2, 4, 0, 3, 2, 2, 1, 3, 3, 2, 4, 0, 4, 1, 4,\n",
       "       4, 4, 4])"
      ]
     },
     "execution_count": 26,
     "metadata": {},
     "output_type": "execute_result"
    }
   ],
   "source": [
    "action_state"
   ]
  },
  {
   "cell_type": "code",
   "execution_count": 27,
   "id": "28d77e34",
   "metadata": {},
   "outputs": [
    {
     "data": {
      "text/plain": [
       "array([[0., 0., 0., 0., 1.],\n",
       "       [0., 1., 0., 0., 0.],\n",
       "       [1., 0., 0., 0., 0.],\n",
       "       [0., 1., 0., 0., 0.],\n",
       "       [1., 0., 0., 0., 0.],\n",
       "       [0., 0., 0., 1., 0.],\n",
       "       [0., 0., 1., 0., 0.],\n",
       "       [0., 0., 1., 0., 0.],\n",
       "       [0., 0., 0., 0., 1.],\n",
       "       [1., 0., 0., 0., 0.],\n",
       "       [0., 0., 0., 1., 0.],\n",
       "       [0., 0., 1., 0., 0.],\n",
       "       [0., 0., 1., 0., 0.],\n",
       "       [0., 1., 0., 0., 0.],\n",
       "       [0., 0., 0., 1., 0.],\n",
       "       [0., 0., 0., 1., 0.],\n",
       "       [0., 0., 1., 0., 0.],\n",
       "       [0., 0., 0., 0., 1.],\n",
       "       [1., 0., 0., 0., 0.],\n",
       "       [0., 0., 0., 0., 1.],\n",
       "       [0., 1., 0., 0., 0.],\n",
       "       [0., 0., 0., 0., 1.],\n",
       "       [0., 0., 0., 0., 1.],\n",
       "       [0., 0., 0., 0., 1.],\n",
       "       [0., 0., 0., 0., 1.]])"
      ]
     },
     "execution_count": 27,
     "metadata": {},
     "output_type": "execute_result"
    }
   ],
   "source": [
    "env.action_space.info"
   ]
  },
  {
   "cell_type": "code",
   "execution_count": 1,
   "id": "d34664ea",
   "metadata": {},
   "outputs": [],
   "source": [
    "from utils.tools import avg_length"
   ]
  },
  {
   "cell_type": "code",
   "execution_count": 2,
   "id": "e1dc0842",
   "metadata": {},
   "outputs": [
    {
     "data": {
      "text/plain": [
       "12.252345647714384"
      ]
     },
     "execution_count": 2,
     "metadata": {},
     "output_type": "execute_result"
    }
   ],
   "source": [
    "avg_length(avg_tasks_per=100)"
   ]
  }
 ],
 "metadata": {
  "kernelspec": {
   "display_name": "dsj",
   "language": "python",
   "name": "python3"
  },
  "language_info": {
   "codemirror_mode": {
    "name": "ipython",
    "version": 3
   },
   "file_extension": ".py",
   "mimetype": "text/x-python",
   "name": "python",
   "nbconvert_exporter": "python",
   "pygments_lexer": "ipython3",
   "version": "3.11.11"
  }
 },
 "nbformat": 4,
 "nbformat_minor": 5
}
